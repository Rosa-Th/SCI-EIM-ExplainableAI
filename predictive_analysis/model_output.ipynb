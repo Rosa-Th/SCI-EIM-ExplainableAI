{
 "cells": [
  {
   "cell_type": "markdown",
   "metadata": {},
   "source": [
    "### Print Out Hyperparameters of Best Models"
   ]
  },
  {
   "cell_type": "code",
   "execution_count": 1,
   "metadata": {},
   "outputs": [
    {
     "name": "stderr",
     "output_type": "stream",
     "text": [
      "2024-09-26 20:56:51.480981: I tensorflow/tsl/cuda/cudart_stub.cc:28] Could not find cuda drivers on your machine, GPU will not be used.\n",
      "2024-09-26 20:56:51.541897: I tensorflow/tsl/cuda/cudart_stub.cc:28] Could not find cuda drivers on your machine, GPU will not be used.\n",
      "2024-09-26 20:56:51.543657: I tensorflow/core/platform/cpu_feature_guard.cc:182] This TensorFlow binary is optimized to use available CPU instructions in performance-critical operations.\n",
      "To enable the following instructions: AVX2 FMA, in other operations, rebuild TensorFlow with the appropriate compiler flags.\n",
      "2024-09-26 20:56:53.414280: W tensorflow/compiler/tf2tensorrt/utils/py_utils.cc:38] TF-TRT Warning: Could not find TensorRT\n"
     ]
    },
    {
     "name": "stdout",
     "output_type": "stream",
     "text": [
      "Hyperparameters XGBoost\n",
      "{'objective': 'multi:softprob', 'use_label_encoder': False, 'base_score': 0.5, 'booster': 'gbtree', 'callbacks': None, 'colsample_bylevel': 1, 'colsample_bynode': 1, 'colsample_bytree': 0.7, 'early_stopping_rounds': None, 'enable_categorical': False, 'eval_metric': 'mlogloss', 'gamma': 0, 'gpu_id': -1, 'grow_policy': 'depthwise', 'importance_type': None, 'interaction_constraints': '', 'learning_rate': 0.1, 'max_bin': 256, 'max_cat_to_onehot': 4, 'max_delta_step': 0, 'max_depth': 4, 'max_leaves': 0, 'min_child_weight': 3, 'missing': nan, 'monotone_constraints': '()', 'n_estimators': 50, 'n_jobs': 0, 'num_parallel_tree': 1, 'predictor': 'auto', 'random_state': 0, 'reg_alpha': 0, 'reg_lambda': 1, 'sampling_method': 'uniform', 'scale_pos_weight': None, 'subsample': 0.8, 'tree_method': 'exact', 'validate_parameters': 1, 'verbosity': None}\n",
      "Hyperparameters MLP\n",
      "{'activation': 'relu', 'alpha': 0.05, 'batch_size': 'auto', 'beta_1': 0.9, 'beta_2': 0.999, 'early_stopping': False, 'epsilon': 1e-08, 'hidden_layer_sizes': (100, 100, 50), 'learning_rate': 'constant', 'learning_rate_init': 0.001, 'max_fun': 15000, 'max_iter': 5000, 'momentum': 0.9, 'n_iter_no_change': 10, 'nesterovs_momentum': True, 'power_t': 0.5, 'random_state': 42, 'shuffle': True, 'solver': 'adam', 'tol': 0.0001, 'validation_fraction': 0.1, 'verbose': False, 'warm_start': False}\n",
      "Hyperpram Keras\n",
      "{'space': [{'class_name': 'Int', 'config': {'name': 'num_layers', 'default': None, 'conditions': [], 'min_value': 1, 'max_value': 5, 'step': 1, 'sampling': None}}, {'class_name': 'Int', 'config': {'name': 'units_0', 'default': None, 'conditions': [], 'min_value': 32, 'max_value': 256, 'step': 32, 'sampling': None}}, {'class_name': 'Choice', 'config': {'name': 'activation_0', 'default': 'relu', 'conditions': [], 'values': ['relu', 'tanh'], 'ordered': False}}, {'class_name': 'Float', 'config': {'name': 'l1_regularizer_0', 'default': 0.0001, 'conditions': [], 'min_value': 0.0001, 'max_value': 0.01, 'step': None, 'sampling': 'log'}}, {'class_name': 'Float', 'config': {'name': 'dropout_0', 'default': 0.0, 'conditions': [], 'min_value': 0.0, 'max_value': 0.6, 'step': 0.1, 'sampling': None}}, {'class_name': 'Choice', 'config': {'name': 'optimizer', 'default': 'adam', 'conditions': [], 'values': ['adam', 'rmsprop'], 'ordered': False}}, {'class_name': 'Float', 'config': {'name': 'learning_rate', 'default': 1e-05, 'conditions': [], 'min_value': 1e-05, 'max_value': 0.01, 'step': None, 'sampling': 'log'}}, {'class_name': 'Int', 'config': {'name': 'units_1', 'default': None, 'conditions': [], 'min_value': 32, 'max_value': 256, 'step': 32, 'sampling': None}}, {'class_name': 'Choice', 'config': {'name': 'activation_1', 'default': 'relu', 'conditions': [], 'values': ['relu', 'tanh'], 'ordered': False}}, {'class_name': 'Float', 'config': {'name': 'l1_regularizer_1', 'default': 0.0001, 'conditions': [], 'min_value': 0.0001, 'max_value': 0.01, 'step': None, 'sampling': 'log'}}, {'class_name': 'Float', 'config': {'name': 'dropout_1', 'default': 0.0, 'conditions': [], 'min_value': 0.0, 'max_value': 0.6, 'step': 0.1, 'sampling': None}}, {'class_name': 'Int', 'config': {'name': 'units_2', 'default': None, 'conditions': [], 'min_value': 32, 'max_value': 256, 'step': 32, 'sampling': None}}, {'class_name': 'Choice', 'config': {'name': 'activation_2', 'default': 'relu', 'conditions': [], 'values': ['relu', 'tanh'], 'ordered': False}}, {'class_name': 'Float', 'config': {'name': 'l1_regularizer_2', 'default': 0.0001, 'conditions': [], 'min_value': 0.0001, 'max_value': 0.01, 'step': None, 'sampling': 'log'}}, {'class_name': 'Float', 'config': {'name': 'dropout_2', 'default': 0.0, 'conditions': [], 'min_value': 0.0, 'max_value': 0.6, 'step': 0.1, 'sampling': None}}, {'class_name': 'Int', 'config': {'name': 'units_3', 'default': None, 'conditions': [], 'min_value': 32, 'max_value': 256, 'step': 32, 'sampling': None}}, {'class_name': 'Choice', 'config': {'name': 'activation_3', 'default': 'relu', 'conditions': [], 'values': ['relu', 'tanh'], 'ordered': False}}, {'class_name': 'Float', 'config': {'name': 'l1_regularizer_3', 'default': 0.0001, 'conditions': [], 'min_value': 0.0001, 'max_value': 0.01, 'step': None, 'sampling': 'log'}}, {'class_name': 'Float', 'config': {'name': 'dropout_3', 'default': 0.0, 'conditions': [], 'min_value': 0.0, 'max_value': 0.6, 'step': 0.1, 'sampling': None}}], 'values': {'num_layers': 4, 'units_0': 192, 'activation_0': 'tanh', 'l1_regularizer_0': 0.002051386718289359, 'dropout_0': 0.2, 'optimizer': 'rmsprop', 'learning_rate': 0.0003204119265097899, 'units_1': 32, 'activation_1': 'relu', 'l1_regularizer_1': 0.0001, 'dropout_1': 0.0, 'units_2': 32, 'activation_2': 'relu', 'l1_regularizer_2': 0.0001, 'dropout_2': 0.0, 'units_3': 32, 'activation_3': 'relu', 'l1_regularizer_3': 0.0001, 'dropout_3': 0.0}}\n"
     ]
    }
   ],
   "source": [
    "import pickle\n",
    "from tensorflow.keras.models import load_model\n",
    "import json\n",
    "\n",
    "with open('../models/xgboost_1.pkl', 'rb') as file:\n",
    "    xgb_model = pickle.load(file)\n",
    "    \n",
    "with open('../models/neural_1.pkl', 'rb') as file:\n",
    "    mlp_model = pickle.load(file)\n",
    "\n",
    "seq_model = load_model('../models/neural_1_tensor.h5')\n",
    "with open('../models/neural_1_tensor_hyperparam.json', 'r') as json_file:\n",
    "    seq_hyperparam = json.load(json_file)\n",
    "print(\"Hyperparameters XGBoost\")\n",
    "print(xgb_model.get_params())\n",
    "print(\"Hyperparameters MLP\")\n",
    "print(mlp_model.get_params())\n",
    "print(\"Hyperpram Keras\")\n",
    "print(seq_hyperparam)"
   ]
  },
  {
   "cell_type": "code",
   "execution_count": null,
   "metadata": {},
   "outputs": [],
   "source": []
  },
  {
   "cell_type": "code",
   "execution_count": null,
   "metadata": {},
   "outputs": [],
   "source": []
  }
 ],
 "metadata": {
  "kernelspec": {
   "display_name": "Python 3",
   "language": "python",
   "name": "python3"
  },
  "language_info": {
   "codemirror_mode": {
    "name": "ipython",
    "version": 3
   },
   "file_extension": ".py",
   "mimetype": "text/x-python",
   "name": "python",
   "nbconvert_exporter": "python",
   "pygments_lexer": "ipython3",
   "version": "3.8.10"
  }
 },
 "nbformat": 4,
 "nbformat_minor": 2
}
