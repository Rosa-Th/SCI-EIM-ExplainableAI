{
 "cells": [
  {
   "cell_type": "markdown",
   "metadata": {},
   "source": [
    "## 2c. Training Keras Sequential Model.\n",
    "### Note: To rerun this notebook, must delete the 'predictive_analysis/models' folder first to avoid data leakage."
   ]
  },
  {
   "cell_type": "code",
   "execution_count": 1,
   "metadata": {},
   "outputs": [
    {
     "name": "stderr",
     "output_type": "stream",
     "text": [
      "2024-05-30 23:51:58.437780: I tensorflow/tsl/cuda/cudart_stub.cc:28] Could not find cuda drivers on your machine, GPU will not be used.\n",
      "2024-05-30 23:51:58.573766: I tensorflow/tsl/cuda/cudart_stub.cc:28] Could not find cuda drivers on your machine, GPU will not be used.\n",
      "2024-05-30 23:51:58.575707: I tensorflow/core/platform/cpu_feature_guard.cc:182] This TensorFlow binary is optimized to use available CPU instructions in performance-critical operations.\n",
      "To enable the following instructions: AVX2 FMA, in other operations, rebuild TensorFlow with the appropriate compiler flags.\n",
      "2024-05-30 23:52:02.424609: W tensorflow/compiler/tf2tensorrt/utils/py_utils.cc:38] TF-TRT Warning: Could not find TensorRT\n"
     ]
    }
   ],
   "source": [
    "import pandas as pd\n",
    "import numpy as np\n",
    "import random\n",
    "import tensorflow as tf\n",
    "from sklearn.model_selection import train_test_split\n",
    "from sklearn.preprocessing import StandardScaler, LabelEncoder\n",
    "from sklearn.utils.class_weight import compute_class_weight\n",
    "from sklearn.model_selection import StratifiedKFold\n",
    "import keras_tuner as kt\n",
    "from tensorflow.keras.models import Sequential\n",
    "from tensorflow.keras.layers import Dense, Dropout\n",
    "from tensorflow.keras import layers\n",
    "from tensorflow.keras.callbacks import EarlyStopping\n",
    "\n",
    "# Load the data\n",
    "df = pd.read_csv(\"../preprocessed/clean_survey.csv\")\n",
    "\n",
    "# Split to independent and dependent variables\n",
    "X = df.drop(['q_031_adjusted', 'invol_score', 'q_031', 'involvement_level'] + [f'q_0{i}' for i in range(45, 55)], axis=1)\n",
    "y = df[\"involvement_level\"]\n",
    "\n",
    "# Encode the class labels\n",
    "label_encoder = LabelEncoder()\n",
    "y_encoded = label_encoder.fit_transform(y)\n",
    "\n",
    "# Stratified split to ensure similar distribution of classes in train/test sets\n",
    "X_train, X_test, y_encoded_train, y_encoded_test = train_test_split(X, y_encoded, random_state=42)\n",
    "\n",
    "\n",
    "# Data Preprocessing\n",
    "scaler = StandardScaler()\n",
    "scaler.fit(X_train)\n",
    "X_train_scaled = scaler.transform(X_train)\n",
    "X_test_scaled = scaler.transform(X_test)\n",
    "\n",
    "# Store in dataframe for plotting\n",
    "feature_names = X_train.columns.tolist()\n",
    "X_train_scaled_df = pd.DataFrame(X_train_scaled, columns=feature_names)\n",
    "X_test_scaled_df = pd.DataFrame(X_test_scaled, columns=feature_names)"
   ]
  },
  {
   "cell_type": "code",
   "execution_count": 2,
   "metadata": {},
   "outputs": [
    {
     "name": "stdout",
     "output_type": "stream",
     "text": [
      "Shape of X_train_scaled: (656, 91)\n",
      "Shape of y_encoded_train: (656,)\n"
     ]
    }
   ],
   "source": [
    "print(\"Shape of X_train_scaled:\", X_train_scaled.shape)  # Should be (num_samples, num_features)\n",
    "print(\"Shape of y_encoded_train:\", y_encoded_train.shape)  # Should be (num_samples,)"
   ]
  },
  {
   "cell_type": "code",
   "execution_count": 3,
   "metadata": {},
   "outputs": [],
   "source": [
    "# fixed a random state for stability\n",
    "def reset_random_seeds():\n",
    "   tf.random.set_seed(42)\n",
    "   np.random.seed(42)\n",
    "   random.seed(42)\n",
    "\n",
    "reset_random_seeds()\n"
   ]
  },
  {
   "cell_type": "code",
   "execution_count": 4,
   "metadata": {},
   "outputs": [],
   "source": [
    "from tensorflow.keras import regularizers\n",
    "# Function to build the Keras model with tunable hyperparameters\n",
    "def build_model(hp):\n",
    "    model = Sequential()\n",
    "\n",
    "    # Add input layer with shape based on the number of input features\n",
    "    model.add(layers.Input(shape=(X_train.shape[1],)))\n",
    "\n",
    "    # Add a varying number of hidden layers with tunable units and activations\n",
    "    num_layers = hp.Int('num_layers', 1, 5)\n",
    "    for i in range(num_layers):\n",
    "        units = hp.Int(f'units_{i}', min_value=32, max_value=256, step=32)\n",
    "\n",
    "        # Add regularization and activation for each dense layer\n",
    "        model.add(layers.Dense(\n",
    "            units=units,\n",
    "            activation=hp.Choice(f'activation_{i}', values=['relu', 'tanh']),\n",
    "            kernel_regularizer=regularizers.l1(hp.Float(f'l1_regularizer_{i}', 0.0001, 0.01, sampling='log'))\n",
    "        ))\n",
    "\n",
    "        # Add a dropout layer with tunable dropout rate\n",
    "        model.add(Dropout(rate=hp.Float(f'dropout_{i}', 0.0, 0.6, step=0.1)))\n",
    "\n",
    "    # Add an output layer with softmax activation to predict class probabilities\n",
    "    model.add(layers.Dense(len(label_encoder.classes_), activation='softmax'))\n",
    "\n",
    "    # Choose optimizer type and learning rate based on hyperparameters\n",
    "    optimizer_name = hp.Choice('optimizer', values=['adam', 'rmsprop'])\n",
    "    learning_rate = hp.Float('learning_rate', min_value=0.00001, max_value=0.01, sampling='log')\n",
    "\n",
    "    # Initialize the optimizer\n",
    "    if optimizer_name == 'adam':\n",
    "        optimizer = tf.keras.optimizers.Adam(learning_rate=learning_rate)\n",
    "    elif optimizer_name == 'rmsprop':\n",
    "        optimizer = tf.keras.optimizers.RMSprop(learning_rate=learning_rate)\n",
    "\n",
    "    # Compile the model using sparse categorical crossentropy for classification\n",
    "    model.compile(\n",
    "        optimizer=optimizer,\n",
    "        loss='sparse_categorical_crossentropy',\n",
    "        metrics=['accuracy']\n",
    "    )\n",
    "    return model"
   ]
  },
  {
   "cell_type": "code",
   "execution_count": 5,
   "metadata": {},
   "outputs": [
    {
     "name": "stdout",
     "output_type": "stream",
     "text": [
      "Trial 20 Complete [00h 00m 37s]\n",
      "val_accuracy: 0.6212121248245239\n",
      "\n",
      "Best val_accuracy So Far: 0.689393937587738\n",
      "Total elapsed time: 00h 18m 35s\n",
      "INFO:tensorflow:Oracle triggered exit\n",
      "INFO:tensorflow:Oracle triggered exit\n"
     ]
    },
    {
     "name": "stdout",
     "output_type": "stream",
     "text": [
      "INFO:tensorflow:Oracle triggered exit\n",
      "INFO:tensorflow:Oracle triggered exit\n",
      "INFO:tensorflow:Oracle triggered exit\n"
     ]
    }
   ],
   "source": [
    "from tensorflow.keras.callbacks import EarlyStopping\n",
    "from sklearn.utils.class_weight import compute_class_weight\n",
    "\n",
    "\n",
    "# Compute class weights\n",
    "class_weights = compute_class_weight(class_weight='balanced', classes=np.unique(y_encoded_train), y=y_encoded_train)\n",
    "class_weight_dict = dict(enumerate(class_weights))\n",
    "print(\"Class weights:\", class_weights)\n",
    "\n",
    "# Set up the tuner\n",
    "tuner = kt.RandomSearch(\n",
    "    build_model,\n",
    "    objective='val_accuracy',\n",
    "    max_trials=20,\n",
    "    executions_per_trial=2,\n",
    "    directory='models_copy',\n",
    "    project_name='neural_tuning_copy'\n",
    ")\n",
    "\n",
    "# Early stopping callback\n",
    "stop_early = EarlyStopping(monitor='val_loss', patience=5)\n",
    "\n",
    "# Execute the search with stratified k-fold cross-validation\n",
    "skf = StratifiedKFold(n_splits=5, shuffle=True, random_state=42)\n",
    "\n",
    "\n",
    "\n",
    "# Execute hyperparameter tuning with cross-validation\n",
    "for train_idx, val_idx in skf.split(X_train_scaled, y_encoded_train):\n",
    "    X_train_fold, X_val_fold = X_train_scaled[train_idx], X_train_scaled[val_idx]\n",
    "    y_train_fold, y_val_fold = y_encoded_train[train_idx], y_encoded_train[val_idx]\n",
    "\n",
    "    tuner.search(X_train_fold, y_train_fold, epochs=50, validation_data=(X_val_fold, y_val_fold),\n",
    "                 callbacks=[stop_early], class_weight=class_weight_dict)\n",
    "\n",
    "# Get the optimal hyperparameters and best model\n",
    "best_hps = tuner.get_best_hyperparameters(num_trials=1)[0]\n"
   ]
  },
  {
   "cell_type": "code",
   "execution_count": 6,
   "metadata": {},
   "outputs": [
    {
     "name": "stdout",
     "output_type": "stream",
     "text": [
      "Model: \"sequential\"\n",
      "_________________________________________________________________\n",
      " Layer (type)                Output Shape              Param #   \n",
      "=================================================================\n",
      " dense (Dense)               (None, 128)               11776     \n",
      "                                                                 \n",
      " dropout (Dropout)           (None, 128)               0         \n",
      "                                                                 \n",
      " dense_1 (Dense)             (None, 3)                 387       \n",
      "                                                                 \n",
      "=================================================================\n",
      "Total params: 12163 (47.51 KB)\n",
      "Trainable params: 12163 (47.51 KB)\n",
      "Non-trainable params: 0 (0.00 Byte)\n",
      "_________________________________________________________________\n"
     ]
    },
    {
     "data": {
      "text/plain": [
       "'history = model.fit(X_train_scaled, y_encoded_train, epochs=50,\\n                    class_weight=class_weight_dict, validation_data=(X_test_scaled, y_encoded_test),\\n                    batch_size=32, callbacks=[stop_early])'"
      ]
     },
     "execution_count": 6,
     "metadata": {},
     "output_type": "execute_result"
    }
   ],
   "source": [
    "from sklearn.utils.class_weight import compute_class_weight\n",
    "import numpy as np\n",
    "\n",
    "\"\"\"# Compute class weights\n",
    "from sklearn.utils.class_weight import compute_class_weight\n",
    "class_weights = compute_class_weight('balanced', classes=np.unique(y_encoded_train), y=y_encoded_train)\n",
    "class_weights = dict(enumerate(class_weights))\n",
    "# Check class weights (optional, for your reference)\n",
    "print(\"Class weights:\", class_weights)\"\"\"\n",
    "\n",
    "# Build the model with the optimal hyperparameters and train it on the data for 50 epochs\n",
    "#model = tuner.hypermodel.build(best_hps)\n",
    "model = tuner.get_best_models(num_models=1)[0]\n",
    "model.summary()\n",
    "# Model training\n",
    "#history = model.fit(X_train_scaled, y_encoded_train, epochs=50, \n",
    "#                    class_weight=class_weights, validation_split=0.2, batch_size=32)\n",
    "\n",
    "# Train the best model on the entire training set with early stopping\n",
    "\"\"\"history = model.fit(X_train_scaled, y_encoded_train, epochs=50,\n",
    "                    class_weight=class_weight_dict, validation_data=(X_test_scaled, y_encoded_test),\n",
    "                    batch_size=32, callbacks=[stop_early])\"\"\"\n",
    "\n",
    "# Save the best model to a file\n",
    "# model.save('../models/neural_1_tensor.h5')"
   ]
  },
  {
   "cell_type": "code",
   "execution_count": 7,
   "metadata": {},
   "outputs": [
    {
     "name": "stdout",
     "output_type": "stream",
     "text": [
      "7/7 [==============================] - 0s 12ms/step\n",
      "Accuracy: 0.6894977168949772\n",
      "F1 Score (Micro): 0.6894977168949772\n",
      "F1 Score (Macro): 0.6393669690209297\n",
      "F1 Score (Weighted): 0.6958674381059101\n",
      "Hamming Loss: 0.3105022831050228\n"
     ]
    }
   ],
   "source": [
    "from sklearn.metrics import accuracy_score, f1_score, roc_auc_score, hamming_loss\n",
    "import numpy as np\n",
    "\n",
    "# Evaluate the model\n",
    "y_pred_prob = model.predict(X_test_scaled)\n",
    "y_pred = np.argmax(y_pred_prob, axis=1)  # Convert probabilities to class predictions\n",
    "# y_test_labels = np.argmax(y_encoded_test, axis=1)  # Convert one-hot to labels for evaluation\n",
    "\n",
    "# Calculate various metrics\n",
    "print(\"Accuracy:\", accuracy_score(y_encoded_test, y_pred))\n",
    "print(\"F1 Score (Micro):\", f1_score(y_encoded_test, y_pred, average='micro'))\n",
    "print(\"F1 Score (Macro):\", f1_score(y_encoded_test, y_pred, average='macro'))\n",
    "print(\"F1 Score (Weighted):\", f1_score(y_encoded_test, y_pred, average='weighted'))\n",
    "print(\"Hamming Loss:\", hamming_loss(y_encoded_test, y_pred))"
   ]
  },
  {
   "cell_type": "code",
   "execution_count": 8,
   "metadata": {},
   "outputs": [
    {
     "name": "stdout",
     "output_type": "stream",
     "text": [
      "ROC-AUC (Macro): 0.8195993481258333\n"
     ]
    }
   ],
   "source": [
    "# ROC-AUC for multi-class\n",
    "roc_auc = roc_auc_score(y_encoded_test, y_pred_prob, average='macro', multi_class='ovr')\n",
    "print(\"ROC-AUC (Macro):\", roc_auc)"
   ]
  },
  {
   "cell_type": "code",
   "execution_count": 9,
   "metadata": {},
   "outputs": [
    {
     "name": "stdout",
     "output_type": "stream",
     "text": [
      "{0: 'High', 1: 'Low', 2: 'Medium'}\n",
      "7/7 [==============================] - 0s 9ms/step\n"
     ]
    },
    {
     "data": {
      "image/png": "[encoded data removed]",
      "text/plain": [
       "<Figure size 864x576 with 1 Axes>"
      ]
     },
     "metadata": {
      "needs_background": "light"
     },
     "output_type": "display_data"
    }
   ],
   "source": [
    "from sklearn.metrics import roc_curve, auc\n",
    "from sklearn.preprocessing import label_binarize\n",
    "from itertools import cycle\n",
    "import numpy as np\n",
    "from matplotlib import pyplot as plt\n",
    "\n",
    "label_mapping = {index: label for index, label in enumerate(label_encoder.classes_)}\n",
    "print(label_mapping)\n",
    "\n",
    "# Binarize the output labels for multi-class ROC curve plotting\n",
    "y_test_binarized = label_binarize(y_encoded_test, classes=np.unique(y_encoded_train))\n",
    "n_classes = y_test_binarized.shape[1]\n",
    "\n",
    "# Colors for different classes\n",
    "colors = cycle(['blue', 'red', 'green'])\n",
    "\n",
    "# Compute ROC curve and ROC area for each class\n",
    "fpr = dict()\n",
    "tpr = dict()\n",
    "roc_auc = dict()\n",
    "\n",
    "# Use model.predict to get the probabilities\n",
    "y_proba = model.predict(X_test_scaled)\n",
    "\n",
    "for j in range(n_classes):\n",
    "    fpr[j], tpr[j], _ = roc_curve(y_test_binarized[:, j], y_proba[:, j])\n",
    "    roc_auc[j] = auc(fpr[j], tpr[j])\n",
    "\n",
    "# Plot ROC curve for each class\n",
    "plt.figure(figsize=(12, 8))\n",
    "for j, color in zip(range(n_classes), colors):\n",
    "    plt.plot(fpr[j], tpr[j], color=color, lw=2,\n",
    "             label=f\"ROC curve of class '{label_mapping[j]}' (area = {roc_auc[j]:0.2f})\")\n",
    "\n",
    "plt.plot([0, 1], [0, 1], 'k--', lw=2)\n",
    "plt.xlim([0.0, 1.0])\n",
    "plt.ylim([0.0, 1.05])\n",
    "plt.xlabel('False Positive Rate', fontsize=14)\n",
    "plt.ylabel('True Positive Rate', fontsize=14)\n",
    "plt.title('Sequential Classifier: Multi-class ROC', fontsize=16)\n",
    "plt.legend(loc=\"lower right\", fontsize=12)\n",
    "plt.xticks(fontsize=12)\n",
    "plt.yticks(fontsize=12)\n",
    "plt.show()"
   ]
  },
  {
   "cell_type": "code",
   "execution_count": 10,
   "metadata": {},
   "outputs": [
    {
     "data": {
      "image/png": "[encoded data removed]",
      "text/plain": [
       "<Figure size 864x576 with 2 Axes>"
      ]
     },
     "metadata": {
      "needs_background": "light"
     },
     "output_type": "display_data"
    }
   ],
   "source": [
    "from sklearn.metrics import confusion_matrix, ConfusionMatrixDisplay\n",
    "cm = confusion_matrix(y_encoded_test, y_pred)\n",
    "disp = ConfusionMatrixDisplay(confusion_matrix=cm, display_labels=label_encoder.classes_)\n",
    "# Create a new figure or adjust the current figure size here\n",
    "fig, ax = plt.subplots(figsize=(12, 8))\n",
    "# Increase text font size within the matrix\n",
    "disp.plot(ax=ax, cmap=plt.cm.Blues)  # Plot on the specified axes to control the size\n",
    "\n",
    "# Now adjust the fontsize using ax properties\n",
    "ax.set_title(f'Sequential Classifier: Confusion Matrix', fontsize=14)  # Adjust title fontsize\n",
    "ax.set_xlabel('Predicted label', fontsize=14)  # Adjust x-axis label fontsize\n",
    "ax.set_ylabel('True label', fontsize=14)  # Adjust y-axis label fontsize\n",
    "ax.tick_params(axis='both', which='major', labelsize=12)  # Adjust tick fontsize for both axes\n",
    "\n",
    "plt.show()"
   ]
  },
  {
   "cell_type": "code",
   "execution_count": null,
   "metadata": {},
   "outputs": [],
   "source": []
  }
 ],
 "metadata": {
  "kernelspec": {
   "display_name": "Python 3",
   "language": "python",
   "name": "python3"
  },
  "language_info": {
   "codemirror_mode": {
    "name": "ipython",
    "version": 3
   },
   "file_extension": ".py",
   "mimetype": "text/x-python",
   "name": "python",
   "nbconvert_exporter": "python",
   "pygments_lexer": "ipython3",
   "version": "3.8.10"
  }
 },
 "nbformat": 4,
 "nbformat_minor": 2
}
